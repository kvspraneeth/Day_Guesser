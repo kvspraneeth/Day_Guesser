{
 "cells": [
  {
   "cell_type": "code",
   "execution_count": 1,
   "id": "8a77d22a",
   "metadata": {},
   "outputs": [],
   "source": [
    "import calendar"
   ]
  },
  {
   "cell_type": "code",
   "execution_count": 4,
   "id": "83343bf5",
   "metadata": {},
   "outputs": [
    {
     "name": "stdout",
     "output_type": "stream",
     "text": [
      "-------------------- ::::: ENTER DATE IN THE FORMAT OF MM-DD-YYYY ::::: --------------------\n",
      "6 9 1978\n",
      "FRIDAY\n"
     ]
    }
   ],
   "source": [
    "print('-------------------- ::::: ENTER DATE IN THE FORMAT OF MM-DD-YYYY ::::: --------------------')\n",
    "n = str(input())\n",
    "n = n.split()\n",
    "numbers = [int(i) for i in n]\n",
    "#print(numbers)\n",
    "month=numbers[0]\n",
    "date=numbers[1]\n",
    "year=numbers[2]\n",
    "#print(j,k,l)\n",
    "day=calendar.weekday(year,month,date)\n",
    "if(day==0):\n",
    "    print('MONDAY')\n",
    "elif(day==1):\n",
    "    print('TUESDAY')\n",
    "elif(day==2):\n",
    "    print('WEDNESDAY')\n",
    "elif(day==3):\n",
    "    print('THURSDAY')\n",
    "elif(day==4):\n",
    "    print('FRIDAY')\n",
    "elif(day==5):\n",
    "    print('SATURDAY')\n",
    "elif(day==6):\n",
    "    print('SUNDAY')"
   ]
  }
 ],
 "metadata": {
  "kernelspec": {
   "display_name": "Python 3 (ipykernel)",
   "language": "python",
   "name": "python3"
  },
  "language_info": {
   "codemirror_mode": {
    "name": "ipython",
    "version": 3
   },
   "file_extension": ".py",
   "mimetype": "text/x-python",
   "name": "python",
   "nbconvert_exporter": "python",
   "pygments_lexer": "ipython3",
   "version": "3.9.12"
  }
 },
 "nbformat": 4,
 "nbformat_minor": 5
}
